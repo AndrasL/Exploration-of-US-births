{
 "cells": [
  {
   "cell_type": "code",
   "execution_count": 1,
   "metadata": {
    "collapsed": true
   },
   "outputs": [],
   "source": [
    "csv_list = open(\"US_births_1994-2003_CDC_NCHS.csv\").read().split(\"\\n\")"
   ]
  },
  {
   "cell_type": "code",
   "execution_count": 2,
   "metadata": {
    "collapsed": false
   },
   "outputs": [
    {
     "data": {
      "text/plain": [
       "['year,month,date_of_month,day_of_week,births',\n",
       " '1994,1,1,6,8096',\n",
       " '1994,1,2,7,7772',\n",
       " '1994,1,3,1,10142',\n",
       " '1994,1,4,2,11248',\n",
       " '1994,1,5,3,11053',\n",
       " '1994,1,6,4,11406',\n",
       " '1994,1,7,5,11251',\n",
       " '1994,1,8,6,8653',\n",
       " '1994,1,9,7,7910']"
      ]
     },
     "execution_count": 2,
     "metadata": {},
     "output_type": "execute_result"
    }
   ],
   "source": [
    "csv_list[0:10]"
   ]
  },
  {
   "cell_type": "code",
   "execution_count": 3,
   "metadata": {
    "collapsed": true
   },
   "outputs": [],
   "source": [
    "def read_csv(file_name):\n",
    "    string_data = open(file_name).read()\n",
    "    string_list = string_data.split(\"\\n\")[1:]\n",
    "    final_list = []\n",
    "    for string in string_list:\n",
    "        string_fields = string.split(\",\")\n",
    "        int_fields = []\n",
    "        for value in string_fields:\n",
    "            int_fields.append(int(value))\n",
    "        final_list.append(int_fields)\n",
    "    return final_list\n",
    "    "
   ]
  },
  {
   "cell_type": "code",
   "execution_count": 4,
   "metadata": {
    "collapsed": false
   },
   "outputs": [
    {
     "data": {
      "text/plain": [
       "[[1994, 1, 1, 6, 8096],\n",
       " [1994, 1, 2, 7, 7772],\n",
       " [1994, 1, 3, 1, 10142],\n",
       " [1994, 1, 4, 2, 11248],\n",
       " [1994, 1, 5, 3, 11053],\n",
       " [1994, 1, 6, 4, 11406],\n",
       " [1994, 1, 7, 5, 11251],\n",
       " [1994, 1, 8, 6, 8653],\n",
       " [1994, 1, 9, 7, 7910],\n",
       " [1994, 1, 10, 1, 10498],\n",
       " [1994, 1, 11, 2, 11706],\n",
       " [1994, 1, 12, 3, 11567],\n",
       " [1994, 1, 13, 4, 11212],\n",
       " [1994, 1, 14, 5, 11570],\n",
       " [1994, 1, 15, 6, 8660],\n",
       " [1994, 1, 16, 7, 8123],\n",
       " [1994, 1, 17, 1, 10567],\n",
       " [1994, 1, 18, 2, 11541],\n",
       " [1994, 1, 19, 3, 11257],\n",
       " [1994, 1, 20, 4, 11682],\n",
       " [1994, 1, 21, 5, 11811],\n",
       " [1994, 1, 22, 6, 8833],\n",
       " [1994, 1, 23, 7, 8310],\n",
       " [1994, 1, 24, 1, 11125],\n",
       " [1994, 1, 25, 2, 11981],\n",
       " [1994, 1, 26, 3, 11514],\n",
       " [1994, 1, 27, 4, 11702],\n",
       " [1994, 1, 28, 5, 11666],\n",
       " [1994, 1, 29, 6, 8988],\n",
       " [1994, 1, 30, 7, 8096],\n",
       " [1994, 1, 31, 1, 10765],\n",
       " [1994, 2, 1, 2, 11755],\n",
       " [1994, 2, 2, 3, 11483],\n",
       " [1994, 2, 3, 4, 11523],\n",
       " [1994, 2, 4, 5, 11677],\n",
       " [1994, 2, 5, 6, 8991],\n",
       " [1994, 2, 6, 7, 8309],\n",
       " [1994, 2, 7, 1, 10984],\n",
       " [1994, 2, 8, 2, 12152],\n",
       " [1994, 2, 9, 3, 11515]]"
      ]
     },
     "execution_count": 4,
     "metadata": {},
     "output_type": "execute_result"
    }
   ],
   "source": [
    "cdc_list = read_csv(\"US_births_1994-2003_CDC_NCHS.csv\")\n",
    "\n",
    "cdc_list[:40]"
   ]
  },
  {
   "cell_type": "code",
   "execution_count": 5,
   "metadata": {
    "collapsed": true
   },
   "outputs": [],
   "source": [
    "def months_births(data):\n",
    "    births_per_month = {}\n",
    "    for row in data:\n",
    "        births = row[4]\n",
    "        month = row[1]\n",
    "        if month not in births_per_month:\n",
    "            births_per_month[month] = births\n",
    "        else:\n",
    "            births_per_month[month] += births\n",
    "    return births_per_month\n",
    "\n",
    "            \n",
    "            "
   ]
  },
  {
   "cell_type": "code",
   "execution_count": 6,
   "metadata": {
    "collapsed": false
   },
   "outputs": [
    {
     "data": {
      "text/plain": [
       "{1: 3232517,\n",
       " 2: 3018140,\n",
       " 3: 3322069,\n",
       " 4: 3185314,\n",
       " 5: 3350907,\n",
       " 6: 3296530,\n",
       " 7: 3498783,\n",
       " 8: 3525858,\n",
       " 9: 3439698,\n",
       " 10: 3378814,\n",
       " 11: 3171647,\n",
       " 12: 3301860}"
      ]
     },
     "execution_count": 6,
     "metadata": {},
     "output_type": "execute_result"
    }
   ],
   "source": [
    "cdc_month_births = months_births(cdc_list)\n",
    "\n",
    "cdc_month_births"
   ]
  },
  {
   "cell_type": "code",
   "execution_count": 7,
   "metadata": {
    "collapsed": true
   },
   "outputs": [],
   "source": [
    "def dow_births(data):\n",
    "    births_per_dow = {}\n",
    "    for row in data:\n",
    "        births = row[4]\n",
    "        dow = row[3]\n",
    "        if dow not in births_per_dow:\n",
    "            births_per_dow[dow] = births\n",
    "        else:\n",
    "            births_per_dow[dow] += births\n",
    "    return births_per_dow"
   ]
  },
  {
   "cell_type": "code",
   "execution_count": 8,
   "metadata": {
    "collapsed": false
   },
   "outputs": [
    {
     "data": {
      "text/plain": [
       "{1: 5789166,\n",
       " 2: 6446196,\n",
       " 3: 6322855,\n",
       " 4: 6288429,\n",
       " 5: 6233657,\n",
       " 6: 4562111,\n",
       " 7: 4079723}"
      ]
     },
     "execution_count": 8,
     "metadata": {},
     "output_type": "execute_result"
    }
   ],
   "source": [
    "cdc_day_births = dow_births(cdc_list)\n",
    "cdc_day_births"
   ]
  },
  {
   "cell_type": "code",
   "execution_count": 9,
   "metadata": {
    "collapsed": false
   },
   "outputs": [],
   "source": [
    "def calc_counts(data, column):\n",
    "    births_per_col = {}\n",
    "    for row in data:\n",
    "        births = row[4]\n",
    "        col = row[column]\n",
    "        if col not in births_per_col:\n",
    "            births_per_col[col] = births\n",
    "        else:\n",
    "            births_per_col[col] += births\n",
    "    return births_per_col"
   ]
  },
  {
   "cell_type": "code",
   "execution_count": 10,
   "metadata": {
    "collapsed": false
   },
   "outputs": [
    {
     "data": {
      "text/plain": [
       "{1994: 3952767,\n",
       " 1995: 3899589,\n",
       " 1996: 3891494,\n",
       " 1997: 3880894,\n",
       " 1998: 3941553,\n",
       " 1999: 3959417,\n",
       " 2000: 4058814,\n",
       " 2001: 4025933,\n",
       " 2002: 4021726,\n",
       " 2003: 4089950}"
      ]
     },
     "execution_count": 10,
     "metadata": {},
     "output_type": "execute_result"
    }
   ],
   "source": [
    "cdc_year_births = calc_counts(cdc_list, 0)\n",
    "cdc_year_births"
   ]
  },
  {
   "cell_type": "code",
   "execution_count": 11,
   "metadata": {
    "collapsed": false
   },
   "outputs": [
    {
     "data": {
      "text/plain": [
       "{1: 1276557,\n",
       " 2: 1288739,\n",
       " 3: 1304499,\n",
       " 4: 1288154,\n",
       " 5: 1299953,\n",
       " 6: 1304474,\n",
       " 7: 1310459,\n",
       " 8: 1312297,\n",
       " 9: 1303292,\n",
       " 10: 1320764,\n",
       " 11: 1314361,\n",
       " 12: 1318437,\n",
       " 13: 1277684,\n",
       " 14: 1320153,\n",
       " 15: 1319171,\n",
       " 16: 1315192,\n",
       " 17: 1324953,\n",
       " 18: 1326855,\n",
       " 19: 1318727,\n",
       " 20: 1324821,\n",
       " 21: 1322897,\n",
       " 22: 1317381,\n",
       " 23: 1293290,\n",
       " 24: 1288083,\n",
       " 25: 1272116,\n",
       " 26: 1284796,\n",
       " 27: 1294395,\n",
       " 28: 1307685,\n",
       " 29: 1223161,\n",
       " 30: 1202095,\n",
       " 31: 746696}"
      ]
     },
     "execution_count": 11,
     "metadata": {},
     "output_type": "execute_result"
    }
   ],
   "source": [
    "cdc_dom_births = calc_counts(cdc_list, 2)\n",
    "cdc_dom_births"
   ]
  },
  {
   "cell_type": "code",
   "execution_count": 13,
   "metadata": {
    "collapsed": false
   },
   "outputs": [],
   "source": [
    "def min_max_calc(data):\n",
    "    min_value = 0\n",
    "    max_value = 0\n",
    "    print(min_value, max_value)\n",
    "    for key, value in data.items():\n",
    "        if value > max_value:\n",
    "            max_value = value\n",
    "        if value < min_value:\n",
    "            min_value = value\n",
    "    return min_value, max_value\n",
    "        \n",
    "   \n",
    "    "
   ]
  },
  {
   "cell_type": "code",
   "execution_count": 22,
   "metadata": {
    "collapsed": false
   },
   "outputs": [
    {
     "name": "stdout",
     "output_type": "stream",
     "text": [
      "(746696, 1326855)\n"
     ]
    }
   ],
   "source": [
    "def min_max(data): \n",
    "    min_value = data[1] \n",
    "    max_value = data[1] \n",
    "    for key, value in data.items(): \n",
    "        if value > max_value: \n",
    "            max_value = value \n",
    "        if value < min_value:\n",
    "            min_value = value\n",
    "    return min_value, max_value\n",
    "            \n",
    "            \n",
    "\n",
    "births_dom = min_max(cdc_dom_births)\n",
    "print(births_dom)"
   ]
  },
  {
   "cell_type": "code",
   "execution_count": null,
   "metadata": {
    "collapsed": true
   },
   "outputs": [],
   "source": []
  }
 ],
 "metadata": {
  "anaconda-cloud": {},
  "kernelspec": {
   "display_name": "Python 3",
   "language": "python",
   "name": "python3"
  },
  "language_info": {
   "codemirror_mode": {
    "name": "ipython",
    "version": 3
   },
   "file_extension": ".py",
   "mimetype": "text/x-python",
   "name": "python",
   "nbconvert_exporter": "python",
   "pygments_lexer": "ipython3",
   "version": "3.4.3"
  }
 },
 "nbformat": 4,
 "nbformat_minor": 1
}
